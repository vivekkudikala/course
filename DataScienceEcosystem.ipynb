{
 "cells": [
  {
   "cell_type": "markdown",
   "id": "68d93bea-335e-471b-9d52-0ef62c25b163",
   "metadata": {},
   "source": [
    "# Data Science Tools and Ecosystem "
   ]
  },
  {
   "cell_type": "markdown",
   "id": "0f3a5de3-9591-4451-a178-921703587833",
   "metadata": {},
   "source": [
    "### In this notebook, Data Science Tools and Ecosystem are summarized."
   ]
  },
  {
   "cell_type": "markdown",
   "id": "3de6e1e1-9aba-48ab-adb7-41048fe4633e",
   "metadata": {},
   "source": [
    "**Objectives:**\n",
    "* List popular languages for Data Science\n",
    "* Some of the commonly used libraries used by Data Scientists\n",
    "* Some of the DataScience Tools\n",
    "* Evaluating some Arithmetic Expressions"
   ]
  },
  {
   "cell_type": "markdown",
   "id": "a7a60fda-41f8-457b-9d78-5ceaa07eda87",
   "metadata": {},
   "source": [
    "Some of the popular languages that Data Scientists use are:"
   ]
  },
  {
   "cell_type": "markdown",
   "id": "9219afec-704e-413e-848d-37c5409860a2",
   "metadata": {},
   "source": [
    "1. Python\n",
    "2. R\n",
    "3. SQL"
   ]
  },
  {
   "cell_type": "markdown",
   "id": "0834f020-9ed7-4d6f-a94f-6fc16d93af93",
   "metadata": {},
   "source": [
    "Some of the commonly used libraries used by Data Scientists include:"
   ]
  },
  {
   "cell_type": "markdown",
   "id": "56dde9d1-7306-4b51-8116-a0a34dee832e",
   "metadata": {},
   "source": [
    "1. Pandas\n",
    "2. Numpy\n",
    "3. Scikit Learn\n",
    "4. Matplotlib"
   ]
  },
  {
   "cell_type": "markdown",
   "id": "a9801f45-86a0-4c4d-9bc2-ac200e8c6c7d",
   "metadata": {},
   "source": [
    "Some of the DataScience Tools:"
   ]
  },
  {
   "cell_type": "markdown",
   "id": "f4a3076f-8563-48bb-8fb0-36551126aca0",
   "metadata": {},
   "source": [
    "| Data Science Tools |\n",
    "|--------------------|\n",
    "|Visual Studio Code|\n",
    "|RStudio|\n",
    "|Jupiter Notebook|"
   ]
  },
  {
   "cell_type": "markdown",
   "id": "17435886-67aa-4e8f-bee7-36323e3fc1f6",
   "metadata": {},
   "source": [
    "### Below are a few examples of evaluating arithmetic expressions in Python"
   ]
  },
  {
   "cell_type": "markdown",
   "id": "419c7af3-c8b6-4dbc-b264-d9a4c064d2bd",
   "metadata": {},
   "source": [
    "This a simple arithmetic expression to mutiply then add integers"
   ]
  },
  {
   "cell_type": "code",
   "execution_count": 25,
   "id": "fd29e3d9-0896-4adb-9918-c3804dedfd97",
   "metadata": {},
   "outputs": [
    {
     "data": {
      "text/plain": [
       "17"
      ]
     },
     "execution_count": 25,
     "metadata": {},
     "output_type": "execute_result"
    }
   ],
   "source": [
    "(3*4)+5"
   ]
  },
  {
   "cell_type": "markdown",
   "id": "405d5e10-3c55-4bda-944a-a95f8ae652c6",
   "metadata": {},
   "source": [
    "This will convert 200 minutes to hours by diving by 60"
   ]
  },
  {
   "cell_type": "code",
   "execution_count": 34,
   "id": "01558f1b-fdd5-40ae-92a3-40705e17fa4b",
   "metadata": {},
   "outputs": [
    {
     "name": "stdout",
     "output_type": "stream",
     "text": [
      "3.3333333333333335\n"
     ]
    }
   ],
   "source": [
    "minutes=200\n",
    "hours=200/60\n",
    "print(hours)"
   ]
  },
  {
   "cell_type": "markdown",
   "id": "f1e9a47e-e8cc-4c90-b2d1-d8139fc7a48e",
   "metadata": {},
   "source": [
    "## Author\n",
    "Vivek Kudikala"
   ]
  },
  {
   "cell_type": "code",
   "execution_count": null,
   "id": "10cf9443-b042-4408-ab4c-7d5bce1e2be9",
   "metadata": {},
   "outputs": [],
   "source": []
  }
 ],
 "metadata": {
  "kernelspec": {
   "display_name": "Python 3 (ipykernel)",
   "language": "python",
   "name": "python3"
  },
  "language_info": {
   "codemirror_mode": {
    "name": "ipython",
    "version": 3
   },
   "file_extension": ".py",
   "mimetype": "text/x-python",
   "name": "python",
   "nbconvert_exporter": "python",
   "pygments_lexer": "ipython3",
   "version": "3.12.4"
  }
 },
 "nbformat": 4,
 "nbformat_minor": 5
}
